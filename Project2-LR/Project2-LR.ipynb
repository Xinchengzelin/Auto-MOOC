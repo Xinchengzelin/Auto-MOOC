{
 "cells": [
  {
   "cell_type": "markdown",
   "metadata": {},
   "source": [
    "# 逻辑回归\n",
    "## 自己编写函数实现（准确率：0.7781）"
   ]
  },
  {
   "cell_type": "code",
   "execution_count": 1,
   "metadata": {},
   "outputs": [
    {
     "name": "stderr",
     "output_type": "stream",
     "text": [
      "C:\\Anaconda3\\lib\\site-packages\\ipykernel_launcher.py:17: SettingWithCopyWarning: \n",
      "A value is trying to be set on a copy of a slice from a DataFrame.\n",
      "Try using .loc[row_indexer,col_indexer] = value instead\n",
      "\n",
      "See the caveats in the documentation: http://pandas.pydata.org/pandas-docs/stable/indexing.html#indexing-view-versus-copy\n",
      "C:\\Anaconda3\\lib\\site-packages\\ipykernel_launcher.py:20: SettingWithCopyWarning: \n",
      "A value is trying to be set on a copy of a slice from a DataFrame.\n",
      "Try using .loc[row_indexer,col_indexer] = value instead\n",
      "\n",
      "See the caveats in the documentation: http://pandas.pydata.org/pandas-docs/stable/indexing.html#indexing-view-versus-copy\n"
     ]
    },
    {
     "name": "stdout",
     "output_type": "stream",
     "text": [
      "数据大小： 483463 27\n",
      "Weights: [-1.92253344e+00 -2.54309701e-01 -3.34394989e-01 -3.37154924e-01\n",
      "  6.12964700e+00  7.62684379e+00  4.87589193e+00  1.12701624e+00\n",
      " -3.24726164e-01  3.21202256e-01 -4.45248544e-02 -1.33631198e+00\n",
      " -4.19034726e+00 -2.98558228e+00 -2.08261893e+00  3.79678884e+00\n",
      "  8.03239947e-01 -3.59243565e-02 -1.70272412e+00 -6.32523240e-01\n",
      " -2.62351309e-01 -2.13251242e-01 -2.50905940e-01  1.86195381e+00\n",
      " -4.88718733e-01 -6.92847528e-01  4.90825667e+01]\n",
      "Accuracy: 0.778060000330945\n"
     ]
    }
   ],
   "source": [
    "import pandas as pd\n",
    "import numpy as np\n",
    "from sklearn.model_selection import train_test_split\n",
    "\n",
    "iter_num = 50 #迭代次数\n",
    "\n",
    "def readData():\n",
    "    data = pd.read_csv('train.csv')\n",
    "    Xcol=[col for col in data.columns if col != 'IsAlert']\n",
    "    X = data[Xcol]\n",
    "    Y = data['IsAlert']\n",
    "    Xtrain, Xtest, ytrain, ytest= train_test_split(X, Y, test_size=0.20)\n",
    "\n",
    "    #对数据进行简化处理\n",
    "    Xcol=[col for col in data.columns if col != 'IsAlert']\n",
    "    for i in Xcol:\n",
    "        Xtrain[i] = (Xtrain[i] - Xtrain[i].mean())/(Xtrain[i].max() - Xtrain[i].min())\n",
    "\n",
    "    for i in Xcol:\n",
    "        Xtest[i] = (Xtest[i] - Xtest[i].mean())/(Xtest[i].max() - Xtest[i].min())\n",
    "    \n",
    "#     Xtrain.head()\n",
    "    return Xtrain, Xtest, ytrain, ytest\n",
    "\n",
    "    \n",
    "# Logistic Regression\n",
    "def sigmoid(inX):\n",
    "    return 1.0/(1+np.exp(-inX))\n",
    "\n",
    "# 随机梯度下降算法\n",
    "def gradDescent(dataMatrix, classLabels):\n",
    "    #实现随机梯度下降 theta=theta+alpha*(Y-h)*X    h=sigmoid(sum(theta*X))\n",
    "    m,n=dataMatrix.shape\n",
    "    print('数据大小：',m,n)\n",
    "    weights=np.ones(n)\n",
    "#     print('weights:',weights)\n",
    "    alpha=0.01#步长\n",
    "    for i in range(iter_num):#迭代次数\n",
    "        for j in range(m):\n",
    "            h=sigmoid(sum(dataMatrix[j]*weights))\n",
    "            error=classLabels[j]-h\n",
    "            weights=weights+alpha*error*dataMatrix[j]\n",
    "#             print('h:',h,'error:',error)#,'weights:',weights\n",
    "    return weights\n",
    "            \n",
    "\n",
    "# 分类决策函数\n",
    "def classifyVector(inX,weights):\n",
    "    #根据随机梯度下降训练的参数，对测试数据进行预测\n",
    "#     pass\n",
    "    prob=sigmoid(np.sum(inX*weights))\n",
    "    if prob>0.5:\n",
    "        return 1\n",
    "    elif prob<0.5:\n",
    "        return 0\n",
    "\n",
    "def classifytest(dataMatrix, classLabels, weights):\n",
    "    #基于classifyVector，统计预测的正确率\n",
    "    m,n=dataMatrix.shape\n",
    "    RightCounter=0\n",
    "    WrongCounter=0\n",
    "    for j in range(m):\n",
    "        Result=classifyVector(dataMatrix[j],weights)\n",
    "        if Result==int(classLabels[j]):\n",
    "            RightCounter=RightCounter+1\n",
    "        else:\n",
    "            WrongCounter=WrongCounter+1\n",
    "    print(\"Accuracy:\",RightCounter/(RightCounter+WrongCounter))\n",
    "\n",
    "Xtrain, Xtest, ytrain, ytest = readData()\n",
    "weights = gradDescent(np.array(Xtrain), np.array(ytrain))\n",
    "print('Weights:',weights)\n",
    "classifytest( np.array(Xtest), np.array(ytest), weights)\n"
   ]
  },
  {
   "cell_type": "markdown",
   "metadata": {},
   "source": [
    "## Scikit-learn实现逻辑回归（准确率：0.7923）"
   ]
  },
  {
   "cell_type": "markdown",
   "metadata": {},
   "source": [
    "* 导入库，读取数据"
   ]
  },
  {
   "cell_type": "code",
   "execution_count": 2,
   "metadata": {},
   "outputs": [
    {
     "data": {
      "text/html": [
       "<div>\n",
       "<style scoped>\n",
       "    .dataframe tbody tr th:only-of-type {\n",
       "        vertical-align: middle;\n",
       "    }\n",
       "\n",
       "    .dataframe tbody tr th {\n",
       "        vertical-align: top;\n",
       "    }\n",
       "\n",
       "    .dataframe thead th {\n",
       "        text-align: right;\n",
       "    }\n",
       "</style>\n",
       "<table border=\"1\" class=\"dataframe\">\n",
       "  <thead>\n",
       "    <tr style=\"text-align: right;\">\n",
       "      <th></th>\n",
       "      <th>IsAlert</th>\n",
       "      <th>P1</th>\n",
       "      <th>P2</th>\n",
       "      <th>P3</th>\n",
       "      <th>P4</th>\n",
       "      <th>P5</th>\n",
       "      <th>P6</th>\n",
       "      <th>P7</th>\n",
       "      <th>E1</th>\n",
       "      <th>E2</th>\n",
       "      <th>...</th>\n",
       "      <th>E11</th>\n",
       "      <th>V1</th>\n",
       "      <th>V2</th>\n",
       "      <th>V3</th>\n",
       "      <th>V4</th>\n",
       "      <th>V5</th>\n",
       "      <th>V6</th>\n",
       "      <th>V7</th>\n",
       "      <th>V8</th>\n",
       "      <th>V9</th>\n",
       "    </tr>\n",
       "  </thead>\n",
       "  <tbody>\n",
       "    <tr>\n",
       "      <th>0</th>\n",
       "      <td>0</td>\n",
       "      <td>34.7406</td>\n",
       "      <td>9.84593</td>\n",
       "      <td>1400</td>\n",
       "      <td>42.8571</td>\n",
       "      <td>0.290601</td>\n",
       "      <td>572</td>\n",
       "      <td>104.895</td>\n",
       "      <td>0.0</td>\n",
       "      <td>0.0</td>\n",
       "      <td>...</td>\n",
       "      <td>0.0</td>\n",
       "      <td>101.96</td>\n",
       "      <td>0.175</td>\n",
       "      <td>752</td>\n",
       "      <td>5.99375</td>\n",
       "      <td>0</td>\n",
       "      <td>2005</td>\n",
       "      <td>13.4</td>\n",
       "      <td>4</td>\n",
       "      <td>14.8004</td>\n",
       "    </tr>\n",
       "    <tr>\n",
       "      <th>1</th>\n",
       "      <td>0</td>\n",
       "      <td>34.4215</td>\n",
       "      <td>13.41120</td>\n",
       "      <td>1400</td>\n",
       "      <td>42.8571</td>\n",
       "      <td>0.290601</td>\n",
       "      <td>572</td>\n",
       "      <td>104.895</td>\n",
       "      <td>0.0</td>\n",
       "      <td>0.0</td>\n",
       "      <td>...</td>\n",
       "      <td>0.0</td>\n",
       "      <td>101.98</td>\n",
       "      <td>0.455</td>\n",
       "      <td>752</td>\n",
       "      <td>5.99375</td>\n",
       "      <td>0</td>\n",
       "      <td>2007</td>\n",
       "      <td>13.4</td>\n",
       "      <td>4</td>\n",
       "      <td>14.7729</td>\n",
       "    </tr>\n",
       "    <tr>\n",
       "      <th>2</th>\n",
       "      <td>0</td>\n",
       "      <td>34.3447</td>\n",
       "      <td>15.18520</td>\n",
       "      <td>1400</td>\n",
       "      <td>42.8571</td>\n",
       "      <td>0.290601</td>\n",
       "      <td>576</td>\n",
       "      <td>104.167</td>\n",
       "      <td>0.0</td>\n",
       "      <td>0.0</td>\n",
       "      <td>...</td>\n",
       "      <td>0.0</td>\n",
       "      <td>101.97</td>\n",
       "      <td>0.280</td>\n",
       "      <td>752</td>\n",
       "      <td>5.99375</td>\n",
       "      <td>0</td>\n",
       "      <td>2011</td>\n",
       "      <td>13.4</td>\n",
       "      <td>4</td>\n",
       "      <td>14.7736</td>\n",
       "    </tr>\n",
       "    <tr>\n",
       "      <th>3</th>\n",
       "      <td>0</td>\n",
       "      <td>34.3421</td>\n",
       "      <td>8.84696</td>\n",
       "      <td>1400</td>\n",
       "      <td>42.8571</td>\n",
       "      <td>0.290601</td>\n",
       "      <td>576</td>\n",
       "      <td>104.167</td>\n",
       "      <td>0.0</td>\n",
       "      <td>0.0</td>\n",
       "      <td>...</td>\n",
       "      <td>0.0</td>\n",
       "      <td>101.99</td>\n",
       "      <td>0.070</td>\n",
       "      <td>752</td>\n",
       "      <td>5.99375</td>\n",
       "      <td>0</td>\n",
       "      <td>2015</td>\n",
       "      <td>13.4</td>\n",
       "      <td>4</td>\n",
       "      <td>14.7667</td>\n",
       "    </tr>\n",
       "    <tr>\n",
       "      <th>4</th>\n",
       "      <td>0</td>\n",
       "      <td>34.3322</td>\n",
       "      <td>14.69940</td>\n",
       "      <td>1400</td>\n",
       "      <td>42.8571</td>\n",
       "      <td>0.290601</td>\n",
       "      <td>576</td>\n",
       "      <td>104.167</td>\n",
       "      <td>0.0</td>\n",
       "      <td>0.0</td>\n",
       "      <td>...</td>\n",
       "      <td>0.0</td>\n",
       "      <td>102.07</td>\n",
       "      <td>0.175</td>\n",
       "      <td>752</td>\n",
       "      <td>5.99375</td>\n",
       "      <td>0</td>\n",
       "      <td>2017</td>\n",
       "      <td>13.4</td>\n",
       "      <td>4</td>\n",
       "      <td>14.7757</td>\n",
       "    </tr>\n",
       "  </tbody>\n",
       "</table>\n",
       "<p>5 rows × 28 columns</p>\n",
       "</div>"
      ],
      "text/plain": [
       "   IsAlert       P1        P2    P3       P4        P5   P6       P7   E1  \\\n",
       "0        0  34.7406   9.84593  1400  42.8571  0.290601  572  104.895  0.0   \n",
       "1        0  34.4215  13.41120  1400  42.8571  0.290601  572  104.895  0.0   \n",
       "2        0  34.3447  15.18520  1400  42.8571  0.290601  576  104.167  0.0   \n",
       "3        0  34.3421   8.84696  1400  42.8571  0.290601  576  104.167  0.0   \n",
       "4        0  34.3322  14.69940  1400  42.8571  0.290601  576  104.167  0.0   \n",
       "\n",
       "    E2   ...     E11      V1     V2   V3       V4  V5    V6    V7  V8       V9  \n",
       "0  0.0   ...     0.0  101.96  0.175  752  5.99375   0  2005  13.4   4  14.8004  \n",
       "1  0.0   ...     0.0  101.98  0.455  752  5.99375   0  2007  13.4   4  14.7729  \n",
       "2  0.0   ...     0.0  101.97  0.280  752  5.99375   0  2011  13.4   4  14.7736  \n",
       "3  0.0   ...     0.0  101.99  0.070  752  5.99375   0  2015  13.4   4  14.7667  \n",
       "4  0.0   ...     0.0  102.07  0.175  752  5.99375   0  2017  13.4   4  14.7757  \n",
       "\n",
       "[5 rows x 28 columns]"
      ]
     },
     "execution_count": 2,
     "metadata": {},
     "output_type": "execute_result"
    }
   ],
   "source": [
    "import pandas as pd\n",
    "import numpy as np\n",
    "from sklearn.linear_model import LogisticRegression\n",
    "from sklearn.model_selection import train_test_split\n",
    "data=pd.read_csv('train.csv')\n",
    "data.head()"
   ]
  },
  {
   "cell_type": "markdown",
   "metadata": {},
   "source": [
    "* 分割数据，未对原始数据就行归一化处理，得到准确率为0.7873"
   ]
  },
  {
   "cell_type": "code",
   "execution_count": 3,
   "metadata": {},
   "outputs": [
    {
     "data": {
      "text/plain": [
       "0.7873420570150182"
      ]
     },
     "execution_count": 3,
     "metadata": {},
     "output_type": "execute_result"
    }
   ],
   "source": [
    "Xtrain, Xtest, Ytrain, Ytest = train_test_split(data[[col for col in data.columns if col != 'IsAlert']], data['IsAlert'])\n",
    "model=LogisticRegression(C=1,penalty='l2')\n",
    "model.fit(Xtrain,Ytrain)\n",
    "model.score(Xtest,Ytest)"
   ]
  },
  {
   "cell_type": "markdown",
   "metadata": {},
   "source": [
    "* 分割数据，对原始数据就行归一化处理，得到准确率为0.7923，准确率略微提高"
   ]
  },
  {
   "cell_type": "code",
   "execution_count": 4,
   "metadata": {
    "collapsed": true
   },
   "outputs": [],
   "source": [
    "Xcol=[col for col in data.columns if col != 'IsAlert']\n",
    "for col in Xcol:\n",
    "    data[col]=(data[col]-data[col].min())/(data[col].max()-data[col].min())"
   ]
  },
  {
   "cell_type": "code",
   "execution_count": 5,
   "metadata": {},
   "outputs": [
    {
     "data": {
      "text/plain": [
       "0.7923194535454022"
      ]
     },
     "execution_count": 5,
     "metadata": {},
     "output_type": "execute_result"
    }
   ],
   "source": [
    "Xtrain, Xtest, Ytrain, Ytest = train_test_split(data[[col for col in data.columns if col != 'IsAlert']], data['IsAlert'])\n",
    "model=LogisticRegression(C=1,penalty='l2')\n",
    "model.fit(Xtrain,Ytrain)\n",
    "model.score(Xtest,Ytest)"
   ]
  },
  {
   "cell_type": "markdown",
   "metadata": {},
   "source": [
    "## Scikit-learn实现随机森林算法（准确率：0.9943）"
   ]
  },
  {
   "cell_type": "code",
   "execution_count": 6,
   "metadata": {},
   "outputs": [
    {
     "data": {
      "text/plain": [
       "0.9943408589980341"
      ]
     },
     "execution_count": 6,
     "metadata": {},
     "output_type": "execute_result"
    }
   ],
   "source": [
    "from sklearn.ensemble import RandomForestClassifier\n",
    "# from sklearn.model_selection import GridSearchCV\n",
    "model_r=RandomForestClassifier(n_estimators=100,n_jobs= -1)\n",
    "model_r.fit(Xtrain,Ytrain)\n",
    "model_r.score(Xtest,Ytest)"
   ]
  },
  {
   "cell_type": "markdown",
   "metadata": {
    "collapsed": true
   },
   "source": [
    "# 结论\n",
    "* 自己编写的函数运行时间极长，且准确率比 Scikit-learn的算法准确率还低；"
   ]
  }
 ],
 "metadata": {
  "kernelspec": {
   "display_name": "Python 3",
   "language": "python",
   "name": "python3"
  },
  "language_info": {
   "codemirror_mode": {
    "name": "ipython",
    "version": 3
   },
   "file_extension": ".py",
   "mimetype": "text/x-python",
   "name": "python",
   "nbconvert_exporter": "python",
   "pygments_lexer": "ipython3",
   "version": "3.6.3"
  },
  "toc": {
   "base_numbering": 1,
   "nav_menu": {},
   "number_sections": true,
   "sideBar": true,
   "skip_h1_title": false,
   "title_cell": "Table of Contents",
   "title_sidebar": "Contents",
   "toc_cell": false,
   "toc_position": {
    "height": "calc(100% - 180px)",
    "left": "10px",
    "top": "150px",
    "width": "165px"
   },
   "toc_section_display": true,
   "toc_window_display": false
  }
 },
 "nbformat": 4,
 "nbformat_minor": 2
}
